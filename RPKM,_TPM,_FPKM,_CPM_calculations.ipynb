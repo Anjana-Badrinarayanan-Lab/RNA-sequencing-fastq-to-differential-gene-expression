{
  "nbformat": 4,
  "nbformat_minor": 0,
  "metadata": {
    "colab": {
      "provenance": [],
      "authorship_tag": "ABX9TyOLuy2iBVq1lHqCB2EKIf4z",
      "include_colab_link": true
    },
    "kernelspec": {
      "name": "python3",
      "display_name": "Python 3"
    },
    "language_info": {
      "name": "python"
    }
  },
  "cells": [
    {
      "cell_type": "markdown",
      "metadata": {
        "id": "view-in-github",
        "colab_type": "text"
      },
      "source": [
        "<a href=\"https://colab.research.google.com/github/NehaSontakk/RNA-sequencing-fastq-to-differential-gene-expression/blob/main/RPKM%2C_TPM%2C_FPKM%2C_CPM_calculations.ipynb\" target=\"_parent\"><img src=\"https://colab.research.google.com/assets/colab-badge.svg\" alt=\"Open In Colab\"/></a>"
      ]
    },
    {
      "cell_type": "markdown",
      "source": [
        "## Calculate RPKM/FPKM and TPM Normalizations"
      ],
      "metadata": {
        "id": "tTVOrRFFK9Nr"
      }
    },
    {
      "cell_type": "markdown",
      "source": [
        "Creating a directory to store your coverage files"
      ],
      "metadata": {
        "id": "zmv6e8esTjM0"
      }
    },
    {
      "cell_type": "code",
      "source": [
        "!mkdir /content/data/"
      ],
      "metadata": {
        "id": "uWIUpYLlSY6s",
        "colab": {
          "base_uri": "https://localhost:8080/"
        },
        "outputId": "059da8e5-83b2-47eb-ccbc-b3384343b1ef"
      },
      "execution_count": 2,
      "outputs": [
        {
          "output_type": "stream",
          "name": "stdout",
          "text": [
            "mkdir: cannot create directory ‘/content/data/’: File exists\n"
          ]
        }
      ]
    },
    {
      "cell_type": "code",
      "source": [
        "import pandas as pd\n",
        "from glob import glob"
      ],
      "metadata": {
        "id": "UtIbnjY74K49"
      },
      "execution_count": 3,
      "outputs": []
    },
    {
      "cell_type": "markdown",
      "source": [
        "### Calculate RPKM(single end) /FPKM (paired end)"
      ],
      "metadata": {
        "id": "4o5mAenMsksx"
      }
    },
    {
      "cell_type": "code",
      "source": [
        "def rpkm_calculation(df):\n",
        "  #normalize for read depth\n",
        "  total_reads = df['Mapped_Read_Count'].sum()\n",
        "  #per million scaling\n",
        "  permil_norm = total_reads/1000000\n",
        "  df['RPM_Norm'] = df['Mapped_Read_Count']/permil_norm\n",
        "  #normalize for gene length in kilobase\n",
        "  df['RPKM/FPKM'] = df['RPM_Norm']/(df['Gene_Length']/1000)\n",
        "  return df.drop(columns='RPM_Norm')"
      ],
      "metadata": {
        "id": "jz8-bv_NsH08"
      },
      "execution_count": 4,
      "outputs": []
    },
    {
      "cell_type": "markdown",
      "source": [
        "### Calculate TPM\n",
        "\n",
        "This is like RPKM/FPKM only the order of operations is switched"
      ],
      "metadata": {
        "id": "gi6oq5VvA9uK"
      }
    },
    {
      "cell_type": "code",
      "source": [
        "def tpm_calculation(df):\n",
        "  #normalize for gene length\n",
        "  df['K_Norm'] = df['Mapped_Read_Count']/(df['Gene_Length']/1000)\n",
        "  #normalize for read depth\n",
        "  total_reads = df['K_Norm'].sum()\n",
        "  #per million scaling\n",
        "  permil_norm = total_reads/1000000\n",
        "  df['TPM'] = df['K_Norm']/permil_norm\n",
        "  return df.drop(columns='K_Norm')"
      ],
      "metadata": {
        "id": "PrX37mlDAJpO"
      },
      "execution_count": 5,
      "outputs": []
    },
    {
      "cell_type": "markdown",
      "source": [
        "### Combine"
      ],
      "metadata": {
        "id": "DmLe_SBoG3pz"
      }
    },
    {
      "cell_type": "code",
      "source": [
        "def tpm_rpkm(loc):\n",
        "  df = pd.read_table(loc,sep=\"\\t\",header=None,names=[\"NC_Name\",\"Start\",\"End\",\"Gene_Name\",\"Gene\",\"Strand\",\"Mapped_Read_Count\",\"Length_of_gene_covered_by_mapped_reads\",\"Gene_Length\",\"Coverage\"])\n",
        "  df_rpkm = rpkm_calculation(df)\n",
        "  df_rpkm_tpm = tpm_calculation(df_rpkm)\n",
        "  return df_rpkm_tpm"
      ],
      "metadata": {
        "id": "85xCC4-4G5ap"
      },
      "execution_count": 6,
      "outputs": []
    },
    {
      "cell_type": "markdown",
      "source": [
        "### Final Data Sets"
      ],
      "metadata": {
        "id": "srY7WpbwElzr"
      }
    },
    {
      "cell_type": "code",
      "source": [
        "!mkdir /content/RPKM_FPKM_TPM_Outputs/"
      ],
      "metadata": {
        "id": "JhSgwmLfLU9J"
      },
      "execution_count": 7,
      "outputs": []
    },
    {
      "cell_type": "code",
      "source": [
        "for i in glob(\"/content/data/*.cov\"):\n",
        "  name = i.split(\"/\")[-1].split(\".cov\")[0]\n",
        "  tpm_rpkm(i).to_excel(\"/content/RPKM_FPKM_TPM_Outputs/\"+name+\".xlsx\")"
      ],
      "metadata": {
        "id": "THScuPuZGlWZ"
      },
      "execution_count": 8,
      "outputs": []
    },
    {
      "cell_type": "code",
      "source": [
        "import os\n",
        "os.system(\"zip -r /content/RPKM_FPKM_TPM_Outputs.zip /content/RPKM_FPKM_TPM_Outputs/\")"
      ],
      "metadata": {
        "colab": {
          "base_uri": "https://localhost:8080/"
        },
        "id": "Jl_8VUkfI2hw",
        "outputId": "a1516ba6-8cfe-4b88-a726-d0f02c78f91d"
      },
      "execution_count": 9,
      "outputs": [
        {
          "output_type": "execute_result",
          "data": {
            "text/plain": [
              "0"
            ]
          },
          "metadata": {},
          "execution_count": 9
        }
      ]
    }
  ]
}